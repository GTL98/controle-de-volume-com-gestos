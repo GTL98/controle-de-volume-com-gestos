{
 "cells": [
  {
   "cell_type": "markdown",
   "metadata": {},
   "source": [
    "***A aula explicando o passo a passo e o módulo para esse projeto estão no diretório: https://github.com/GTL98/curso-completo-de-visao-computacional-avancada-com-python***"
   ]
  },
  {
   "cell_type": "markdown",
   "metadata": {},
   "source": [
    "Antes de tudo, vamos instalar via `pip` a biblioteca `pycaw`, pois é ela que nos permitirá mexer no volume do computador:\n",
    "- pip install pycaw\n",
    "\n",
    "As outras bilbiotecas já vem instaladas por padrão no Jupyter."
   ]
  },
  {
   "cell_type": "markdown",
   "metadata": {},
   "source": [
    "### Importar as bibliotecas"
   ]
  },
  {
   "cell_type": "code",
   "execution_count": 1,
   "metadata": {},
   "outputs": [],
   "source": [
    "import cv2\n",
    "import time\n",
    "import math\n",
    "import numpy as np\n",
    "import rastreamento_mao as rm\n",
    "from ctypes import cast, POINTER\n",
    "from comtypes import CLSCTX_ALL\n",
    "from pycaw.pycaw import AudioUtilities, IAudioEndpointVolume"
   ]
  },
  {
   "cell_type": "markdown",
   "metadata": {},
   "source": [
    "### Definir o tamanho da tela"
   ]
  },
  {
   "cell_type": "code",
   "execution_count": 2,
   "metadata": {},
   "outputs": [],
   "source": [
    "largura_tela = 640\n",
    "altura_tela = 480"
   ]
  },
  {
   "cell_type": "markdown",
   "metadata": {},
   "source": [
    "### Taxa de frame (FPS)"
   ]
  },
  {
   "cell_type": "code",
   "execution_count": 3,
   "metadata": {},
   "outputs": [],
   "source": [
    "tempo_anterior = 0\n",
    "tempo_atual = 0"
   ]
  },
  {
   "cell_type": "markdown",
   "metadata": {},
   "source": [
    "### Módulo `DetectorMao`"
   ]
  },
  {
   "cell_type": "code",
   "execution_count": 4,
   "metadata": {},
   "outputs": [],
   "source": [
    "detector = rm.DetectorMao(deteccao_confianca=0.7, rastreamento_confianca=0.7)"
   ]
  },
  {
   "cell_type": "markdown",
   "metadata": {},
   "source": [
    "### Módulo para mexer no volume"
   ]
  },
  {
   "cell_type": "code",
   "execution_count": 5,
   "metadata": {},
   "outputs": [
    {
     "name": "stdout",
     "output_type": "stream",
     "text": [
      "(-65.25, 0.0, 0.03125)\n"
     ]
    }
   ],
   "source": [
    "# código pego do repositório: https://github.com/AndreMiras/pycaw\n",
    "devices = AudioUtilities.GetSpeakers()\n",
    "interface = devices.Activate(\n",
    "    IAudioEndpointVolume._iid_, CLSCTX_ALL, None)\n",
    "volume = cast(interface, POINTER(IAudioEndpointVolume))\n",
    "#volume.GetMute()\n",
    "#volume.GetMasterVolumeLevel()\n",
    "print(volume.GetVolumeRange())\n",
    "#volume.SetMasterVolumeLevel(-20.0, None)"
   ]
  },
  {
   "cell_type": "code",
   "execution_count": 6,
   "metadata": {},
   "outputs": [],
   "source": [
    "# Armazenar em variáveis o valor mínimo e máximo do volume\n",
    "volume_range = volume.GetVolumeRange()\n",
    "min_volume = volume_range[0]\n",
    "max_volume = volume_range[1]"
   ]
  },
  {
   "cell_type": "markdown",
   "metadata": {},
   "source": [
    "### Captura de vídeo    "
   ]
  },
  {
   "cell_type": "code",
   "execution_count": 11,
   "metadata": {},
   "outputs": [],
   "source": [
    "cap = cv2.VideoCapture(0)\n",
    "cap.set(3, largura_tela)  # 3 para informar a largura\n",
    "cap.set(4, altura_tela)  # 4 para informar a altura\n",
    "vol = 0\n",
    "vol_barra = 400\n",
    "vol_porcentagem = 0\n",
    "\n",
    "while True:\n",
    "    sucesso, imagem = cap.read()\n",
    "    imagem = detector.encontrar_maos(imagem)\n",
    "    lista_landmark = detector.encontrar_posicao(imagem, desenho=False)\n",
    "    \n",
    "    # Pegar as posições das landmarks que usaremos\n",
    "    if lista_landmark:\n",
    "        # Landmark número 4\n",
    "        pos_4_x = lista_landmark[4][1]\n",
    "        pos_4_y = lista_landmark[4][2]\n",
    "        \n",
    "        #Landmark número 8\n",
    "        pos_8_x = lista_landmark[8][1]\n",
    "        pos_8_y = lista_landmark[8][2]\n",
    "        \n",
    "        # Desenhar um círculo na landmark 4\n",
    "        cv2.circle(imagem, (pos_4_x, pos_4_y), 10, (255, 0, 255), cv2.FILLED)\n",
    "        \n",
    "        # Desenhar um círculo na landmark 8\n",
    "        cv2.circle(imagem, (pos_8_x, pos_8_y), 10, (255, 0, 255), cv2.FILLED)\n",
    "        \n",
    "        # Cirar uma linha entre as duas landmarks\n",
    "        cv2.line(imagem, (pos_4_x, pos_4_y), (pos_8_x, pos_8_y), (255, 0, 255), 3)\n",
    "        \n",
    "        # Encontrar o meio da linha\n",
    "        cx = (pos_4_x + pos_8_x) // 2\n",
    "        cy = (pos_4_y + pos_8_y) // 2\n",
    "        \n",
    "        # Desenhar um círculo no meio da linha\n",
    "        cv2.circle(imagem, (cx, cy), 10, (255, 0, 255), cv2.FILLED)\n",
    "        \n",
    "        # Descobrir o comprimento da linha\n",
    "        comprimento = math.hypot(pos_8_x - pos_4_x, pos_8_y - pos_4_y)\n",
    "        if comprimento < 50:\n",
    "            cv2.circle(imagem, (cx, cy), 10, (255, 0, 0), cv2.FILLED)\n",
    "        if comprimento > 230:\n",
    "            cv2.circle(imagem, (cx, cy), 10, (0, 0, 255), cv2.FILLED)\n",
    "        \n",
    "        # Range da mão: 50 - 200\n",
    "        # Range do volume: -65,25 - 0\n",
    "        \n",
    "        # Converter o range da mão para o range do volume\n",
    "        vol = np.interp(comprimento, [50, 200], [min_volume, max_volume])\n",
    "        \n",
    "        # Alterar o volume\n",
    "        volume.SetMasterVolumeLevel(vol, None)\n",
    "        \n",
    "    # Desenhar um retângulo para a porcentagem de volume\n",
    "    cv2.rectangle(imagem, (30, 120), (65, 370), (0, 255, 0), 3)\n",
    "    \n",
    "    # Converter o range do volume para o range do retângulo (passar a posição da base (370) e o topo (120))\n",
    "    vol_barra = np.interp(comprimento, [50, 200], [370, 120])\n",
    "    if vol_barra <= 145:\n",
    "        cor_barra = (0, 0, 255)\n",
    "    elif vol_barra >= 345:\n",
    "        cor_barra = (255, 0, 0)\n",
    "    else:\n",
    "        cor_barra = (0, 255, 0)\n",
    "    \n",
    "    # Desenhar o retângulo de preenchimento\n",
    "    cv2.rectangle(imagem, (30, int(vol_barra)), (65, 370), cor_barra, cv2.FILLED)\n",
    "    \n",
    "    # Converter o range de volume para porcentagem\n",
    "    vol_porcentagem = np.interp(comprimento, [50, 200], [0, 100])\n",
    "    if vol_porcentagem <= 10:\n",
    "        cor_porcentagem = (255, 0, 0)\n",
    "    elif vol_porcentagem >= 90:\n",
    "        cor_porcentagem = (0, 0, 255)\n",
    "    else:\n",
    "        cor_porcentagem = (0, 255, 0)\n",
    "    \n",
    "    # Escrever a porcentagem na tela\n",
    "    cv2.putText(imagem, f'{int(vol_porcentagem)}%', (20, 420), cv2.FONT_HERSHEY_COMPLEX, 1, cor_porcentagem, 2)\n",
    "    \n",
    "    # Configurar o FPS\n",
    "    tempo_atual = time.time()\n",
    "    fps = 1/(tempo_atual - tempo_anterior)\n",
    "    tempo_anterior = tempo_atual\n",
    "    \n",
    "    # Mostrar o FPS na tela\n",
    "    cv2.putText(imagem, f'FPS: {int(fps)}', (20, 50), cv2.FONT_HERSHEY_COMPLEX, 1, (255, 0, 0), 2)\n",
    "    \n",
    "    # Mostrar a imagem na tela\n",
    "    cv2.imshow('Imagem', imagem)\n",
    "    \n",
    "    # Terminar o loop\n",
    "    if cv2.waitKey(1) & 0xFF == ord('s'):\n",
    "        break\n",
    "        \n",
    "# Fecha a tela de captura\n",
    "cap.release()\n",
    "cv2.destroyAllWindows()"
   ]
  }
 ],
 "metadata": {
  "kernelspec": {
   "display_name": "Python 3",
   "language": "python",
   "name": "python3"
  },
  "language_info": {
   "codemirror_mode": {
    "name": "ipython",
    "version": 3
   },
   "file_extension": ".py",
   "mimetype": "text/x-python",
   "name": "python",
   "nbconvert_exporter": "python",
   "pygments_lexer": "ipython3",
   "version": "3.8.5"
  }
 },
 "nbformat": 4,
 "nbformat_minor": 4
}
